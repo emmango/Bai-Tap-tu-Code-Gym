{
 "cells": [
  {
   "cell_type": "code",
   "execution_count": 5,
   "id": "5d3b7244",
   "metadata": {},
   "outputs": [
    {
     "name": "stdout",
     "output_type": "stream",
     "text": [
      "Nhập vào bán kính: 100\n",
      "Diện tích của hình tròn có bán kính 100.0 là 31416\n"
     ]
    }
   ],
   "source": [
    "import turtle\n",
    "import math\n",
    "\n",
    "def draw(r):\n",
    "    \"\"\"Hàm vẽ hình tròn với bán kính r\"\"\"\n",
    "    t = turtle.Turtle()\n",
    "    t.hideturtle()\n",
    "    t.pencolor('red')\n",
    "    t.circle(r)\n",
    "    \n",
    "    \n",
    "def area(r):\n",
    "    \"\"\"Hàm tính diện tích hình tròn với bán kính r\"\"\"\n",
    "    return round(math.pi * r * r)\n",
    "\n",
    "r = float(input(\"Nhập vào bán kính: \"))\n",
    "draw(r)\n",
    "s = area(r)\n",
    "print(f\"Diện tích của hình tròn có bán kính {r} là {s}\")\n",
    "turtle.done()"
   ]
  },
  {
   "cell_type": "code",
   "execution_count": null,
   "id": "cacc7b76",
   "metadata": {},
   "outputs": [],
   "source": []
  }
 ],
 "metadata": {
  "kernelspec": {
   "display_name": "Python 3 (ipykernel)",
   "language": "python",
   "name": "python3"
  },
  "language_info": {
   "codemirror_mode": {
    "name": "ipython",
    "version": 3
   },
   "file_extension": ".py",
   "mimetype": "text/x-python",
   "name": "python",
   "nbconvert_exporter": "python",
   "pygments_lexer": "ipython3",
   "version": "3.10.2"
  }
 },
 "nbformat": 4,
 "nbformat_minor": 5
}
