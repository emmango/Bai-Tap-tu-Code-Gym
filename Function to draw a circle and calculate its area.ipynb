{
 "cells": [
  {
   "cell_type": "code",
   "execution_count": null,
   "id": "5d3b7244",
   "metadata": {},
   "outputs": [],
   "source": [
    "import turtle\n",
    "import math\n",
    "\n",
    "def draw(r):\n",
    "    \"\"\"Hàm vẽ hình tròn với bán kính r\"\"\"\n",
    "    t = turtle.Turtle()\n",
    "    t.hideturtle()\n",
    "    t.pencolor('red')\n",
    "    t.circle(r)\n",
    "    turtle.done()\n",
    "    \n",
    "def area(r):\n",
    "    \"\"\"Hàm tính diện tích hình tròn với bán kính r\"\"\"\n",
    "    return math.pi * r * r\n",
    "\n",
    "r = float(input(\"Nhập vào bán kính: \"))\n",
    "draw(r)\n",
    "s = area(r)\n",
    "print(f\"Diện tích của hình tròn có bán kính {r} là {s}\")"
   ]
  }
 ],
 "metadata": {
  "kernelspec": {
   "display_name": "Python 3 (ipykernel)",
   "language": "python",
   "name": "python3"
  },
  "language_info": {
   "codemirror_mode": {
    "name": "ipython",
    "version": 3
   },
   "file_extension": ".py",
   "mimetype": "text/x-python",
   "name": "python",
   "nbconvert_exporter": "python",
   "pygments_lexer": "ipython3",
   "version": "3.10.2"
  }
 },
 "nbformat": 4,
 "nbformat_minor": 5
}
