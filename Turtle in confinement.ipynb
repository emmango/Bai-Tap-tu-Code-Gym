{
 "cells": [
  {
   "cell_type": "code",
   "execution_count": 6,
   "id": "de270b7c",
   "metadata": {},
   "outputs": [
    {
     "ename": "NameError",
     "evalue": "name 'random' is not defined",
     "output_type": "error",
     "traceback": [
      "\u001b[1;31m---------------------------------------------------------------------------\u001b[0m",
      "\u001b[1;31mNameError\u001b[0m                                 Traceback (most recent call last)",
      "Input \u001b[1;32mIn [6]\u001b[0m, in \u001b[0;36m<module>\u001b[1;34m\u001b[0m\n\u001b[0;32m     28\u001b[0m t\u001b[38;5;241m.\u001b[39mgoto(\u001b[38;5;241m0\u001b[39m, \u001b[38;5;241m0\u001b[39m)\n\u001b[0;32m     30\u001b[0m \u001b[38;5;66;03m# Tạo hướng ngẫu nhiên ban đầu cho rùa\u001b[39;00m\n\u001b[0;32m     31\u001b[0m \u001b[38;5;66;03m# khi ở vị trí chính giữa đường bao\u001b[39;00m\n\u001b[1;32m---> 32\u001b[0m angle \u001b[38;5;241m=\u001b[39m \u001b[43mrandom\u001b[49m\u001b[38;5;241m.\u001b[39mrandint(\u001b[38;5;241m0\u001b[39m, \u001b[38;5;241m360\u001b[39m)\n\u001b[0;32m     33\u001b[0m t\u001b[38;5;241m.\u001b[39mright(angle)\n\u001b[0;32m     34\u001b[0m t\u001b[38;5;241m.\u001b[39mshowturtle()\n",
      "\u001b[1;31mNameError\u001b[0m: name 'random' is not defined"
     ]
    }
   ],
   "source": [
    "# Import thư viện đồ họa turtle\n",
    "import turtle\n",
    "# Import thư viện sinh số ngẫu nhiên\n",
    "import random\n",
    "\n",
    "# Khởi tạo đối tượng turtle và đặt ví trí\n",
    "# con trỏ ở điểm 0, -200. Mục đích để vẽ\n",
    "# đường bao nhốt rùa cân chính giữa màn hình\n",
    "t = turtle.Turtle()\n",
    "t.hideturtle()\n",
    "t.penup()\n",
    "t.goto(0, -200)\n",
    "\n",
    "# Vẽ đường bao nhốt rùa\n",
    "# đường bao có màu đen\n",
    "t.speed(10)\n",
    "t.pensize(10)\n",
    "t.pencolor(\"black\")\n",
    "t.pendown()\n",
    "t.circle(200)\n",
    "\n",
    "# Đặt con trỏ rùa về chính giữa đường bao\n",
    "# Đổi màu rùa màu xanh\n",
    "t.penup()\n",
    "t.speed(10)\n",
    "t.shape(\"turtle\")\n",
    "t.pencolor('green')\n",
    "t.goto(0, 0)\n",
    "\n",
    "# Tạo hướng ngẫu nhiên ban đầu cho rùa\n",
    "# khi ở vị trí chính giữa đường bao\n",
    "angle = random.randint(0, 360)\n",
    "t.right(angle)\n",
    "t.showturtle()\n",
    "\n",
    "# Bắt đầu cho rùa chạy thoát khỏi đường bao\n",
    "# Khi rùa di chuyển đến đường bao, bắt rùa\n",
    "# về lại vị trí chính giữa của hộp\n",
    "count = 0\n",
    "while True:\n",
    "    t.speed(1)\n",
    "    # rùa chỉ di chuyển một khoảng cách\n",
    "    # hơi bé hơn bán kính của hộp tròn là 200\n",
    "    # tránh rùa di chuyển đè lên vạch\n",
    "    t.forward(188)\n",
    "    # Bắt rùa về vị trí ban đầu, chính giữa hộp tròn\n",
    "    t.hideturtle()\n",
    "    t.speed(10)\n",
    "    t.goto(0, 0)\n",
    "    angle = random.randint(0, 360)\n",
    "    # Tạo hướng mới cho rùa chạy, thử vận may mới\n",
    "    t.right(angle)\n",
    "    t.showturtle()\n",
    "    # Khi rùa thử đến số lần nào đó thì dừng lại\n",
    "    # kết thúc chương trình bằng lệnh break\n",
    "    count += 1\n",
    "    if count == 10:\n",
    "        break\n",
    "\n",
    "turtle.done()"
   ]
  },
  {
   "cell_type": "code",
   "execution_count": null,
   "id": "ed4d95aa",
   "metadata": {},
   "outputs": [],
   "source": []
  }
 ],
 "metadata": {
  "kernelspec": {
   "display_name": "Python 3 (ipykernel)",
   "language": "python",
   "name": "python3"
  },
  "language_info": {
   "codemirror_mode": {
    "name": "ipython",
    "version": 3
   },
   "file_extension": ".py",
   "mimetype": "text/x-python",
   "name": "python",
   "nbconvert_exporter": "python",
   "pygments_lexer": "ipython3",
   "version": "3.10.2"
  }
 },
 "nbformat": 4,
 "nbformat_minor": 5
}
